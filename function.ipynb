{
 "cells": [
  {
   "cell_type": "markdown",
   "id": "98a08cf8",
   "metadata": {},
   "source": [
    "- User defined function\n",
    "    - parameterized funtion\n",
    "    - non parameterized function\n",
    "    - return functon\n",
    "    - non return\n",
    "    - default parameterized \n",
    "    - lambda function\n",
    "\n",
    "- Built in funtion"
   ]
  },
  {
   "cell_type": "code",
   "execution_count": null,
   "id": "78b8fdfb",
   "metadata": {},
   "outputs": [
    {
     "name": "stdout",
     "output_type": "stream",
     "text": [
      "Hello World\n",
      "Hello World\n",
      "None\n"
     ]
    }
   ],
   "source": [
    "def greet(): # funcion declaration\n",
    "    print(\"Hello World\")\n",
    "greet()  # function calling"
   ]
  },
  {
   "cell_type": "code",
   "execution_count": null,
   "id": "8dbd8445",
   "metadata": {},
   "outputs": [
    {
     "name": "stdout",
     "output_type": "stream",
     "text": [
      "30\n",
      "None\n"
     ]
    }
   ],
   "source": [
    "#function declartion\n",
    "def sum(a,b): # Parameters\n",
    "    print(a + b)\n",
    "\n",
    "print(sum(10,20)) #(10,20) are arguements"
   ]
  },
  {
   "cell_type": "code",
   "execution_count": 10,
   "id": "dc992ba7",
   "metadata": {},
   "outputs": [
    {
     "name": "stdout",
     "output_type": "stream",
     "text": [
      "even\n"
     ]
    }
   ],
   "source": [
    "def even_odd():\n",
    "    a=int(input(\"Enter a number\"))\n",
    "    if a% 2 == 0:\n",
    "        print(\"even\")\n",
    "    else:\n",
    "        print(\"odd\")\n",
    "even_odd()"
   ]
  },
  {
   "cell_type": "code",
   "execution_count": 9,
   "id": "cb67f27b",
   "metadata": {},
   "outputs": [
    {
     "name": "stdout",
     "output_type": "stream",
     "text": [
      "3.0\n"
     ]
    }
   ],
   "source": [
    "def avg():\n",
    "    a=int(input(\"Enter a number\"))\n",
    "    b=int(input(\"Enter a number\"))\n",
    "    c=int(input(\"Enter a number\"))\n",
    "\n",
    "    average=(a+b+c)/3\n",
    "    print(average)\n",
    "avg()"
   ]
  },
  {
   "cell_type": "code",
   "execution_count": 7,
   "id": "326d9def",
   "metadata": {},
   "outputs": [
    {
     "name": "stdout",
     "output_type": "stream",
     "text": [
      "64\n"
     ]
    }
   ],
   "source": [
    "def cube(x):\n",
    "    print(x**3)\n",
    "cube(4)"
   ]
  },
  {
   "cell_type": "code",
   "execution_count": null,
   "id": "3fb1a222",
   "metadata": {},
   "outputs": [],
   "source": [
    "# Non-return function\n",
    "\n",
    "def sum(a,b): # Parameters\n",
    "    print(a + b)\n",
    "\n",
    "print(sum(10,20))"
   ]
  },
  {
   "cell_type": "code",
   "execution_count": 11,
   "id": "00ccc505",
   "metadata": {},
   "outputs": [
    {
     "name": "stdout",
     "output_type": "stream",
     "text": [
      "30\n"
     ]
    }
   ],
   "source": [
    "# Return Function\n",
    "\n",
    "def sum(a,b): # Parameters\n",
    "    return (a + b)\n",
    "\n",
    "print(sum(10,20))"
   ]
  },
  {
   "cell_type": "code",
   "execution_count": 17,
   "id": "e7b42f23",
   "metadata": {},
   "outputs": [
    {
     "name": "stdout",
     "output_type": "stream",
     "text": [
      "('I Love', 'India')\n",
      "('I Love', 'India')\n"
     ]
    }
   ],
   "source": [
    "# def my(country):\n",
    "#     return  'I Love',country\n",
    "\n",
    "# print(my(\"India\"))\n",
    "# print(my())\n",
    "\n",
    "# without giving parameters it will throws error so now we will set a default parameter\n",
    "\n",
    "def my(country = \"India\"):\n",
    "    return  'I Love',country\n",
    "\n",
    "print(my(\"India\"))\n",
    "print(my())"
   ]
  },
  {
   "cell_type": "code",
   "execution_count": 18,
   "id": "23e0e6f5",
   "metadata": {},
   "outputs": [
    {
     "name": "stdout",
     "output_type": "stream",
     "text": [
      "16\n"
     ]
    }
   ],
   "source": [
    "# Lambda function\n",
    "\n",
    "sq = lambda x: x**2\n",
    "print(sq(4))"
   ]
  },
  {
   "cell_type": "code",
   "execution_count": 20,
   "id": "fab98310",
   "metadata": {},
   "outputs": [
    {
     "name": "stdout",
     "output_type": "stream",
     "text": [
      "even\n"
     ]
    }
   ],
   "source": [
    "e = lambda x: 'even' if x%2==0 else 'odd'\n",
    "print(e(10))"
   ]
  }
 ],
 "metadata": {
  "kernelspec": {
   "display_name": "base",
   "language": "python",
   "name": "python3"
  },
  "language_info": {
   "codemirror_mode": {
    "name": "ipython",
    "version": 3
   },
   "file_extension": ".py",
   "mimetype": "text/x-python",
   "name": "python",
   "nbconvert_exporter": "python",
   "pygments_lexer": "ipython3",
   "version": "3.13.5"
  }
 },
 "nbformat": 4,
 "nbformat_minor": 5
}
