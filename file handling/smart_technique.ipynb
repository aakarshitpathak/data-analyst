{
 "cells": [
  {
   "cell_type": "code",
   "execution_count": 1,
   "id": "3caf59e0",
   "metadata": {},
   "outputs": [
    {
     "name": "stdout",
     "output_type": "stream",
     "text": [
      "current Working Directory c:\\coding\\data analyst\\file handling\n"
     ]
    }
   ],
   "source": [
    "import os\n",
    "print('current Working Directory', os.getcwd())"
   ]
  },
  {
   "cell_type": "code",
   "execution_count": 2,
   "id": "4740a182",
   "metadata": {},
   "outputs": [
    {
     "name": "stdout",
     "output_type": "stream",
     "text": [
      "['file.txt', 'file_reading.ipynb', 'file_write.ipynb', 'file_write_without_updating.ipynb', 'smart_technique.ipynb']\n"
     ]
    }
   ],
   "source": [
    "files = os.listdir() # list all files and folders in current\n",
    "# working directory\n",
    "print(files)"
   ]
  },
  {
   "cell_type": "code",
   "execution_count": 7,
   "id": "880fc1c8",
   "metadata": {},
   "outputs": [
    {
     "name": "stdout",
     "output_type": "stream",
     "text": [
      "['Aakarshit Pathak_certificate.pdf', 'AI for all by infosys.pdf', 'Certificate _ Data Science using Gen AI.html', 'Certificate _ Data Science using Gen AI_files', 'data analytics internship_completion_certificate.pdf', 'Generative AI certificate.pdf', 'statistics data science.pdf', 'Wadhwani Foundation Certificate - 67b88605db1aa847bb6d6168.pdf']\n"
     ]
    }
   ],
   "source": [
    "files = os.listdir(r\"C:\\Users\\patha\\OneDrive\\Documents\\certificates\")\n",
    "print(files)"
   ]
  }
 ],
 "metadata": {
  "kernelspec": {
   "display_name": "base",
   "language": "python",
   "name": "python3"
  },
  "language_info": {
   "codemirror_mode": {
    "name": "ipython",
    "version": 3
   },
   "file_extension": ".py",
   "mimetype": "text/x-python",
   "name": "python",
   "nbconvert_exporter": "python",
   "pygments_lexer": "ipython3",
   "version": "3.13.5"
  }
 },
 "nbformat": 4,
 "nbformat_minor": 5
}
