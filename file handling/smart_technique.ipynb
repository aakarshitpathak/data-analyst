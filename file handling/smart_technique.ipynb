{
 "cells": [
  {
   "cell_type": "code",
   "execution_count": 1,
   "id": "3caf59e0",
   "metadata": {},
   "outputs": [
    {
     "name": "stdout",
     "output_type": "stream",
     "text": [
      "current Working Directory c:\\coding\\data analyst\\file handling\n"
     ]
    }
   ],
   "source": [
    "import os\n",
    "print('current Working Directory', os.getcwd())"
   ]
  },
  {
   "cell_type": "code",
   "execution_count": 2,
   "id": "4740a182",
   "metadata": {},
   "outputs": [
    {
     "name": "stdout",
     "output_type": "stream",
     "text": [
      "['file.txt', 'file_reading.ipynb', 'file_write.ipynb', 'file_write_without_updating.ipynb', 'smart_technique.ipynb']\n"
     ]
    }
   ],
   "source": [
    "files = os.listdir() # list all files and folders in current\n",
    "# working directory\n",
    "print(files)"
   ]
  },
  {
   "cell_type": "code",
   "execution_count": null,
   "id": "880fc1c8",
   "metadata": {},
   "outputs": [
    {
     "name": "stdout",
     "output_type": "stream",
     "text": [
      "['Aakarshit Pathak_certificate.pdf', 'AI for all by infosys.pdf', 'Certificate _ Data Science using Gen AI.html', 'Certificate _ Data Science using Gen AI_files', 'data analytics internship_completion_certificate.pdf', 'Generative AI certificate.pdf', 'statistics data science.pdf', 'Wadhwani Foundation Certificate - 67b88605db1aa847bb6d6168.pdf']\n"
     ]
    }
   ],
   "source": [
    "files = os.listdir(r\"C:\\Users\\patha\\OneDrive\\Documents\\certificates\")\n",
    "print(files) # (r) here is raw string in which here special \n",
    "# characters are used as file path"
   ]
  },
  {
   "cell_type": "code",
   "execution_count": 2,
   "id": "4613d55f",
   "metadata": {},
   "outputs": [
    {
     "name": "stdout",
     "output_type": "stream",
     "text": [
      "=> C:\\Users\\patha\\OneDrive\\Documents\\certificates\n",
      "📁 ['Certificate _ Data Science using Gen AI_files']\n",
      "🗄️ ['Aakarshit Pathak_certificate.pdf', 'AI for all by infosys.pdf', 'Certificate _ Data Science using Gen AI.html', 'data analytics internship_completion_certificate.pdf', 'Generative AI certificate.pdf', 'statistics data science.pdf', 'Wadhwani Foundation Certificate - 67b88605db1aa847bb6d6168.pdf']\n",
      "=> C:\\Users\\patha\\OneDrive\\Documents\\certificates\\Certificate _ Data Science using Gen AI_files\n",
      "📁 []\n",
      "🗄️ ['Nomb7EUkwp']\n",
      "Total Files in directory tree: 8\n"
     ]
    }
   ],
   "source": [
    "import os\n",
    "total_files = 0\n",
    "for path, folders, files in os.walk(r\"C:\\Users\\patha\\OneDrive\\Documents\\certificates\"):\n",
    "    print('=>', path)\n",
    "    print('📁',folders)\n",
    "    print('🗄️',files)\n",
    "    total_files += len(files)\n",
    "print('Total Files in directory tree:' , total_files)"
   ]
  },
  {
   "cell_type": "code",
   "execution_count": 3,
   "id": "792eda69",
   "metadata": {},
   "outputs": [
    {
     "name": "stdout",
     "output_type": "stream",
     "text": [
      "The file exists\n"
     ]
    }
   ],
   "source": [
    "file =r\"C:\\Users\\patha\\OneDrive\\Documents\\certificates\"\n",
    "if os.path.exists(file):\n",
    "    print(\"The file exists\")\n",
    "else:\n",
    "    print(\"The files does not exists\")"
   ]
  }
 ],
 "metadata": {
  "kernelspec": {
   "display_name": "base",
   "language": "python",
   "name": "python3"
  },
  "language_info": {
   "codemirror_mode": {
    "name": "ipython",
    "version": 3
   },
   "file_extension": ".py",
   "mimetype": "text/x-python",
   "name": "python",
   "nbconvert_exporter": "python",
   "pygments_lexer": "ipython3",
   "version": "3.13.5"
  }
 },
 "nbformat": 4,
 "nbformat_minor": 5
}
