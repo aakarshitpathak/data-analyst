{
 "cells": [
  {
   "cell_type": "code",
   "execution_count": 1,
   "id": "4e75ea79",
   "metadata": {},
   "outputs": [
    {
     "name": "stdout",
     "output_type": "stream",
     "text": [
      "File appended successfully\n"
     ]
    }
   ],
   "source": [
    "file = open('file.txt','a') # to open file in append mode\n",
    "file.write('\\nDadda Tyagi ne yaad kiya hai')\n",
    "print('File appended successfully')"
   ]
  },
  {
   "cell_type": "code",
   "execution_count": 2,
   "id": "09a28d75",
   "metadata": {},
   "outputs": [
    {
     "name": "stdout",
     "output_type": "stream",
     "text": [
      "Chote Tyagi ko bulao \n",
      "Dadda Tyagi ne yaad kiya hai\n",
      "Dadda Tyagi ne yaad kiya hai\n"
     ]
    }
   ],
   "source": [
    "file = open('file.txt','r')\n",
    "print(file.read())"
   ]
  }
 ],
 "metadata": {
  "kernelspec": {
   "display_name": "base",
   "language": "python",
   "name": "python3"
  },
  "language_info": {
   "codemirror_mode": {
    "name": "ipython",
    "version": 3
   },
   "file_extension": ".py",
   "mimetype": "text/x-python",
   "name": "python",
   "nbconvert_exporter": "python",
   "pygments_lexer": "ipython3",
   "version": "3.13.5"
  }
 },
 "nbformat": 4,
 "nbformat_minor": 5
}
