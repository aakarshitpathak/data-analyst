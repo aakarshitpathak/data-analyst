{
 "cells": [
  {
   "cell_type": "code",
   "execution_count": 1,
   "id": "412f5e32",
   "metadata": {},
   "outputs": [
    {
     "name": "stdout",
     "output_type": "stream",
     "text": [
      "Hello Boys\n"
     ]
    }
   ],
   "source": [
    "import os\n",
    "file = open('file.txt','r') # To open file on read mode\n",
    "print(file.read())"
   ]
  }
 ],
 "metadata": {
  "kernelspec": {
   "display_name": "base",
   "language": "python",
   "name": "python3"
  },
  "language_info": {
   "codemirror_mode": {
    "name": "ipython",
    "version": 3
   },
   "file_extension": ".py",
   "mimetype": "text/x-python",
   "name": "python",
   "nbconvert_exporter": "python",
   "pygments_lexer": "ipython3",
   "version": "3.13.5"
  }
 },
 "nbformat": 4,
 "nbformat_minor": 5
}
