{
 "cells": [
  {
   "cell_type": "code",
   "execution_count": null,
   "id": "30c6e495",
   "metadata": {},
   "outputs": [],
   "source": [
    "# reverse the string using slicing\n",
    "\n",
    "a=\"Aakarshit\"\n",
    "print(a[::-1])"
   ]
  },
  {
   "cell_type": "code",
   "execution_count": null,
   "id": "6f4999a8",
   "metadata": {},
   "outputs": [],
   "source": [
    "# replace morning with evening in good morning\n",
    "\n",
    "a=\"Good Morning\"\n",
    "print(a.replace(\"Morning\",\"Evening\"))"
   ]
  },
  {
   "cell_type": "code",
   "execution_count": null,
   "id": "e52c8fec",
   "metadata": {},
   "outputs": [],
   "source": [
    "# input a string and print how many vowels are in it \n",
    "\n",
    "b=\"My name is Aakarshit\"\n",
    "c=b.upper()\n",
    "count=0\n",
    "vowels=[\"A\",\"E\",\"I\",\"O\",\"U\"]\n",
    "for i in range(len(c)):\n",
    "    if c[i] in vowels:\n",
    "        count+=1\n",
    "\n",
    "print(\"No. of vowels in sentence b is: \", count)"
   ]
  },
  {
   "cell_type": "code",
   "execution_count": null,
   "id": "0ff1d204",
   "metadata": {},
   "outputs": [],
   "source": [
    "# Write a program to print only the vowels from \"education\"\n",
    "\n",
    "b=\"Education\"\n",
    "c=b.upper()\n",
    "count=0\n",
    "vowels=[\"A\",\"E\",\"I\",\"O\",\"U\"]\n",
    "for char in c:\n",
    "    if char in vowels:\n",
    "        print(char)\n",
    "        count+=1\n",
    "\n",
    "print(\"No. of vowels in sentence b is: \", count)"
   ]
  },
  {
   "cell_type": "code",
   "execution_count": null,
   "id": "63f71064",
   "metadata": {},
   "outputs": [],
   "source": [
    "# join the list into single string \n",
    "\n",
    "a=[\"Learn\",\"Python\"]\n",
    "b=\"\"\n",
    "c=b.join(a)\n",
    "print(c)"
   ]
  },
  {
   "cell_type": "code",
   "execution_count": null,
   "id": "0f8478f6",
   "metadata": {},
   "outputs": [],
   "source": [
    "# check wheather the string \"apple\" starts with a and ends with e \n",
    "\n",
    "b=\"apple\"\n",
    "print(b.startswith(\"a\"))\n",
    "print(b.endswith(\"e\"))"
   ]
  },
  {
   "cell_type": "code",
   "execution_count": null,
   "id": "55d65743",
   "metadata": {},
   "outputs": [],
   "source": [
    "# split 3 line string using.splitlines() and print each line\n",
    "t= \"This is line one.\\nThis is line two.\\nThis is line three.\"\n",
    "\n",
    "# Split the string into a list of lines\n",
    "lines = t.splitlines()\n",
    "\n",
    "for line in lines:\n",
    "    print(line)"
   ]
  },
  {
   "cell_type": "code",
   "execution_count": null,
   "id": "0a7f7e40",
   "metadata": {},
   "outputs": [],
   "source": [
    "# input a sentence and print each word on a new line using loop \n",
    "\n",
    "sentence = input(\"Enter a sentence: \")\n",
    "\n",
    "words = sentence.split(\" \")\n",
    "\n",
    "# 3. Iterate and print each word on a new line\n",
    "for word in words:\n",
    "    print(word)"
   ]
  }
 ],
 "metadata": {
  "kernelspec": {
   "display_name": "base",
   "language": "python",
   "name": "python3"
  },
  "language_info": {
   "name": "python",
   "version": "3.13.5"
  }
 },
 "nbformat": 4,
 "nbformat_minor": 5
}
