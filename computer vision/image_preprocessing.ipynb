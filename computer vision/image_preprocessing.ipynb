{
 "cells": [
  {
   "cell_type": "code",
   "execution_count": 1,
   "id": "20223e24",
   "metadata": {},
   "outputs": [],
   "source": [
    "import cv2"
   ]
  },
  {
   "cell_type": "code",
   "execution_count": null,
   "id": "25924c87",
   "metadata": {},
   "outputs": [],
   "source": [
    "# To read image using opencv\n",
    "image = cv2.imread('img.jpg')\n",
    "if image is not None:\n",
    "    cv2.imshow(\"Image\",image)\n",
    "    cv2.waitKey(0) # wait for a key press and 0 is used to wait\n",
    "    # indefinitely\n",
    "    cv2.destroyAllWindows()# close all openCV windows\n",
    "else:\n",
    "    print(\"Image not found\")"
   ]
  },
  {
   "cell_type": "code",
   "execution_count": null,
   "id": "04ba4f6d",
   "metadata": {},
   "outputs": [],
   "source": [
    "# To make your image gray in color\n",
    "\n",
    "gray_image = cv2.cvtColor(image, cv2.COLOR_BGR2GRAY)\n",
    "cv2.imshow(\"Gray Image\", gray_image)\n",
    "cv2.waitKey(0)\n",
    "cv2.destroyAllWindows()"
   ]
  },
  {
   "cell_type": "code",
   "execution_count": 7,
   "id": "7fe6d2ff",
   "metadata": {},
   "outputs": [],
   "source": [
    "# To blur images\n",
    "blurred_image = cv2.GaussianBlur(image ,(15,15),0)\n",
    "# Here 15,15 is used to kernel size , 0 is used for standard deviation\n",
    "# kernel size means the area of the image that is considered for blurring\n",
    "# standard deviation means the amount of blurring\n",
    "cv2.imshow(\"Blurred Image\", blurred_image)\n",
    "cv2.waitKey(0)\n",
    "cv2.destroyAllWindows()"
   ]
  },
  {
   "cell_type": "code",
   "execution_count": 8,
   "id": "1f71fea6",
   "metadata": {},
   "outputs": [],
   "source": [
    "edges = cv2.Canny(gray_image, 100, 200)\n",
    "# 100 and 200 are the min and max thresholds for edge detection\n",
    "# threshold are used to kfilter out weak edges\n",
    "cv2.imshow(\"Edges\", edges)\n",
    "cv2.waitKey(0)\n",
    "cv2.destroyAllWindows()"
   ]
  },
  {
   "cell_type": "code",
   "execution_count": 13,
   "id": "ebb5204b",
   "metadata": {},
   "outputs": [
    {
     "name": "stdout",
     "output_type": "stream",
     "text": [
      "(1920, 1080, 3)\n"
     ]
    }
   ],
   "source": [
    "image = cv2.imread('img.jpg')\n",
    "print(image.shape)\n",
    "\n",
    "#resize image\n",
    "resized_image = cv2.resize(image,(600, 800))#resize to 300\n",
    "cv2.imshow(\"Resized image\",resized_image)\n",
    "cv2.waitKey(0)\n",
    "cv2.destroyAllWindows()"
   ]
  },
  {
   "cell_type": "code",
   "execution_count": 14,
   "id": "a9c64c59",
   "metadata": {},
   "outputs": [],
   "source": [
    "image = cv2.imread('img.jpg')\n",
    "#cropped image\n",
    "cropped_image = image[100:200, 100:400]#crop the image (y1:y2, x1:x2)\n",
    "cv2.imshow(\"Cropped Image\", cropped_image)\n",
    "cv2.waitKey(0)\n",
    "cv2.destroyAllWindows()"
   ]
  },
  {
   "cell_type": "code",
   "execution_count": 15,
   "id": "c6864c09",
   "metadata": {},
   "outputs": [],
   "source": [
    "drawing = image.copy()\n",
    "# draw rectangle on the images\n",
    "cv2.rectangle(drawing, (100, 100), (400,200), (0,255,0),2)\n",
    "# image start point, end point, color, thickess\n",
    "cv2.imshow(\"Drawing\", drawing)\n",
    "cv2.waitKey(0)\n",
    "cv2.destroyAllWindows()"
   ]
  }
 ],
 "metadata": {
  "kernelspec": {
   "display_name": "base",
   "language": "python",
   "name": "python3"
  },
  "language_info": {
   "codemirror_mode": {
    "name": "ipython",
    "version": 3
   },
   "file_extension": ".py",
   "mimetype": "text/x-python",
   "name": "python",
   "nbconvert_exporter": "python",
   "pygments_lexer": "ipython3",
   "version": "3.13.5"
  }
 },
 "nbformat": 4,
 "nbformat_minor": 5
}
