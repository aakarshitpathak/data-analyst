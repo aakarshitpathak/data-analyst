{
 "cells": [
  {
   "cell_type": "code",
   "execution_count": 2,
   "id": "68d5e79a",
   "metadata": {},
   "outputs": [
    {
     "name": "stdout",
     "output_type": "stream",
     "text": [
      "{'name': 'Nik', 'age': 20}\n"
     ]
    }
   ],
   "source": [
    "student = {\n",
    "    'name': 'Nik',\n",
    "    'age': int(input(\"enter your age\"))\n",
    "}\n",
    "print(student)"
   ]
  },
  {
   "cell_type": "code",
   "execution_count": 6,
   "id": "f776e067",
   "metadata": {},
   "outputs": [
    {
     "name": "stdout",
     "output_type": "stream",
     "text": [
      "{'name': 'nik', 'age': 20, 'city': 'Lucknow'}\n"
     ]
    }
   ],
   "source": [
    "# Another way to form a dictionary\n",
    "\n",
    "info = dict(name = input(\"Enter your name\"), age = 20, city = 'Lucknow')\n",
    "print(info)\n"
   ]
  },
  {
   "cell_type": "code",
   "execution_count": 3,
   "id": "18724cca",
   "metadata": {},
   "outputs": [
    {
     "name": "stdout",
     "output_type": "stream",
     "text": [
      "{'Lucknow': [30, 40, 50], 'Delhi': [25, 35, 45], 'Mumbai': [10, 15, 20]}\n"
     ]
    }
   ],
   "source": [
    "temp ={\n",
    "    'Lucknow': [30,40,50,],\n",
    "    'Delhi': [25,35,45],\n",
    "    'Mumbai': [10,15,20]\n",
    "}\n",
    "print(temp)"
   ]
  },
  {
   "cell_type": "code",
   "execution_count": 7,
   "id": "1298e490",
   "metadata": {},
   "outputs": [
    {
     "name": "stdout",
     "output_type": "stream",
     "text": [
      "Nik\n",
      "20\n"
     ]
    }
   ],
   "source": [
    "# 1st method to access key-value pairs\n",
    "\n",
    "print(student['name'])\n",
    "print(student['age'])"
   ]
  },
  {
   "cell_type": "code",
   "execution_count": 8,
   "id": "d28751ec",
   "metadata": {},
   "outputs": [
    {
     "data": {
      "text/plain": [
       "'Lucknow'"
      ]
     },
     "execution_count": 8,
     "metadata": {},
     "output_type": "execute_result"
    }
   ],
   "source": [
    "# 2nd method to access key-value pairs\n",
    "\n",
    "student.get('name')\n",
    "info.get('city')"
   ]
  },
  {
   "cell_type": "code",
   "execution_count": 9,
   "id": "2508b556",
   "metadata": {},
   "outputs": [
    {
     "name": "stdout",
     "output_type": "stream",
     "text": [
      "['name', 'age', 'city']\n",
      "dict_values(['Nik', 20])\n",
      "dict_items([('name', 'Nik'), ('age', 20)])\n"
     ]
    }
   ],
   "source": [
    "print(['name','age','city'])\n",
    "print(student.values())\n",
    "print(student.items())"
   ]
  },
  {
   "cell_type": "code",
   "execution_count": null,
   "id": "8523d6a6",
   "metadata": {},
   "outputs": [
    {
     "name": "stdout",
     "output_type": "stream",
     "text": [
      "name\n",
      "age\n"
     ]
    }
   ],
   "source": [
    "for k in student: # it will take only keys and print it\n",
    "    print(k)"
   ]
  },
  {
   "cell_type": "code",
   "execution_count": 11,
   "id": "c1a27322",
   "metadata": {},
   "outputs": [
    {
     "name": "stdout",
     "output_type": "stream",
     "text": [
      "name : Nik\n",
      "age : 20\n"
     ]
    }
   ],
   "source": [
    "for k,v in student.items():\n",
    "    print(f\"{k} : {v}\")"
   ]
  },
  {
   "cell_type": "code",
   "execution_count": null,
   "id": "6441bcc9",
   "metadata": {},
   "outputs": [
    {
     "name": "stdout",
     "output_type": "stream",
     "text": [
      "{'name': 'Nik', 'age': 20, 'phone no': 9839438817}\n"
     ]
    }
   ],
   "source": [
    "# to add any key value pair in dictionary\n",
    "\n",
    "student['phone no'] = 9839438817\n",
    "print(student)"
   ]
  },
  {
   "cell_type": "code",
   "execution_count": 14,
   "id": "1d435de5",
   "metadata": {},
   "outputs": [
    {
     "name": "stdout",
     "output_type": "stream",
     "text": [
      "{'name': 'Nik', 'age': 20}\n"
     ]
    }
   ],
   "source": [
    "# to remove a key-value pair\n",
    "\n",
    "student.pop('phone no', None) # Using None to avoid KeyError if 'city' does not exist\n",
    "print(student)"
   ]
  },
  {
   "cell_type": "code",
   "execution_count": 15,
   "id": "1b03c6cb",
   "metadata": {},
   "outputs": [
    {
     "name": "stdout",
     "output_type": "stream",
     "text": [
      "{'name': 'Nik', 'age': 21}\n"
     ]
    }
   ],
   "source": [
    "# to update an existing key-value pair \n",
    "\n",
    "student['age'] = 21\n",
    "print(student)"
   ]
  },
  {
   "cell_type": "code",
   "execution_count": 18,
   "id": "ce215ede",
   "metadata": {},
   "outputs": [
    {
     "name": "stdout",
     "output_type": "stream",
     "text": [
      "{'emp001': {'name': 'Nik', 'age': 20, 'department': 'HR', 'salary': 60000}, 'emp002': {'name': 'Alice', 'age': 23, 'department': 'IT', 'salary': 70000}, 'emp003': {'name': 'Sam', 'age': 21, 'department': 'Data Operator', 'salary': 50000}}\n"
     ]
    }
   ],
   "source": [
    "# nested dictionary\n",
    "\n",
    "company = {\n",
    "    'emp001' : {\n",
    "    'name' : 'Nik',\n",
    "    'age':20,\n",
    "    'department':'HR',\n",
    "    'salary' : 60000\n",
    "},\n",
    "'emp002' : {\n",
    "'name':'Alice',\n",
    "'age':23,\n",
    "'department':'IT',\n",
    "'salary' : 70000\n",
    "},\n",
    "'emp003' : {\n",
    "'name':'Sam',\n",
    "'age':21,\n",
    "'department':'Data Operator',\n",
    "'salary' : 50000\n",
    "}}\n",
    "\n",
    "print(company)"
   ]
  },
  {
   "cell_type": "code",
   "execution_count": 19,
   "id": "cbb6d6cf",
   "metadata": {},
   "outputs": [
    {
     "name": "stdout",
     "output_type": "stream",
     "text": [
      "{'emp001': {'age': 20, 'department': 'HR', 'name': 'Nik', 'salary': 60000},\n",
      " 'emp002': {'age': 23, 'department': 'IT', 'name': 'Alice', 'salary': 70000},\n",
      " 'emp003': {'age': 21,\n",
      "            'department': 'Data Operator',\n",
      "            'name': 'Sam',\n",
      "            'salary': 50000}}\n"
     ]
    }
   ],
   "source": [
    "from pprint import pprint\n",
    "pprint(company)"
   ]
  },
  {
   "cell_type": "code",
   "execution_count": 22,
   "id": "3a4940ad",
   "metadata": {},
   "outputs": [
    {
     "name": "stdout",
     "output_type": "stream",
     "text": [
      "70000\n",
      "Nik\n",
      "21\n"
     ]
    }
   ],
   "source": [
    "print(company['emp002']['salary'])\n",
    "print(company['emp001']['name'])\n",
    "print(company['emp003']['age'])"
   ]
  },
  {
   "cell_type": "code",
   "execution_count": null,
   "id": "5055ad8b",
   "metadata": {},
   "outputs": [
    {
     "data": {
      "text/plain": [
       "35.0"
      ]
     },
     "execution_count": 28,
     "metadata": {},
     "output_type": "execute_result"
    }
   ],
   "source": [
    "# calculate the average temperature in delhi using temp dictionary\n",
    "\n",
    "sum(temp['Delhi'])/len(temp['Delhi'])"
   ]
  }
 ],
 "metadata": {
  "kernelspec": {
   "display_name": "base",
   "language": "python",
   "name": "python3"
  },
  "language_info": {
   "codemirror_mode": {
    "name": "ipython",
    "version": 3
   },
   "file_extension": ".py",
   "mimetype": "text/x-python",
   "name": "python",
   "nbconvert_exporter": "python",
   "pygments_lexer": "ipython3",
   "version": "3.13.5"
  }
 },
 "nbformat": 4,
 "nbformat_minor": 5
}
