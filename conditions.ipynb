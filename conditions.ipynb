{
 "cells": [
  {
   "cell_type": "code",
   "execution_count": null,
   "metadata": {},
   "outputs": [
    {
     "name": "stdout",
     "output_type": "stream",
     "text": [
      "You are not eligible\n"
     ]
    }
   ],
   "source": [
    "# if & else\n",
    "\n",
    "a = int(input(\"Enter a number\"))\n",
    "\n",
    "if a>=18:\n",
    "    print(\"You are eligble\") # use windows + (.) to use emojis\n",
    "\n",
    "else:\n",
    "    print(\"You are not eligible\")"
   ]
  },
  {
   "cell_type": "code",
   "execution_count": 4,
   "metadata": {},
   "outputs": [
    {
     "name": "stdout",
     "output_type": "stream",
     "text": [
      "Grade: D or F\n"
     ]
    }
   ],
   "source": [
    "# elif\n",
    "\n",
    "score = int(input(\"Enter a score\"))\n",
    "\n",
    "if score >= 90:\n",
    "    print(\"Grade: A\")\n",
    "elif score >= 80:\n",
    "    print(\"Grade: B\")\n",
    "elif score >= 70:\n",
    "    print(\"Grade: C\")\n",
    "else:\n",
    "    print(\"Grade: D or F\")"
   ]
  },
  {
   "cell_type": "code",
   "execution_count": 2,
   "metadata": {},
   "outputs": [
    {
     "name": "stdout",
     "output_type": "stream",
     "text": [
      "a is positive\n",
      "Number is even\n"
     ]
    }
   ],
   "source": [
    "# Nested if\n",
    "\n",
    "a=int(input(\"Enter a number \"))\n",
    "if (a>0):\n",
    "    print(\"a is positive\")\n",
    "\n",
    "    if(a%2==0):\n",
    "        print(\"Number is even\")\n",
    "\n"
   ]
  },
  {
   "cell_type": "code",
   "execution_count": 6,
   "metadata": {},
   "outputs": [
    {
     "name": "stdout",
     "output_type": "stream",
     "text": [
      "Number is zero\n"
     ]
    }
   ],
   "source": [
    "a= int(input(\"Enter a number\"))\n",
    "if (a>0):\n",
    "    print(\"a is positive\")\n",
    "\n",
    "elif(a<0):\n",
    "    print(\"a is negative\")\n",
    "\n",
    "else:\n",
    "    print(\"Number is zero\")\n",
    "    "
   ]
  },
  {
   "cell_type": "code",
   "execution_count": 1,
   "metadata": {},
   "outputs": [
    {
     "name": "stdout",
     "output_type": "stream",
     "text": [
      "Registeration successful\n"
     ]
    }
   ],
   "source": [
    "username = input(\"Enter your username: \")\n",
    "email = input(\"Enter your email: \")\n",
    "password = input(\"Enter your password: \")\n",
    "cpass = input(\"Confirm your password: \")\n",
    "if len(username)>=8 and len(username)<=20:\n",
    "    if '@' in email and len(email) >=8:\n",
    "        if len(password) >=10 and len(password) <=20:\n",
    "            if password == cpass:\n",
    "                print(\"Registeration successful\")\n",
    "            else:\n",
    "                print(\"Password mismatch\")\n",
    "        else:\n",
    "            print(\"Passaword must be in between 10 and 20 characters\")\n",
    "    else:\n",
    "        print(\"Invalid email\")\n",
    "else:\n",
    "    print(\"Username must be between 8 and 20 character\")"
   ]
  },
  {
   "cell_type": "code",
   "execution_count": 17,
   "metadata": {},
   "outputs": [
    {
     "name": "stdout",
     "output_type": "stream",
     "text": [
      "It is a equilateral triangle\n"
     ]
    }
   ],
   "source": [
    "a=int(input(\"Enter a number\"))\n",
    "b= int(input(\"Enter a number\"))\n",
    "c= int(input(\"Enter a number\"))\n",
    "\n",
    "if(a==b==c):\n",
    "    print(\"It is a equilateral triangle\")\n",
    "\n",
    "elif(a==b or a==c):\n",
    "    print(\"isosceles\")\n",
    "\n",
    "elif (a!=b and a!=c and b!=c):\n",
    "    print(\"scalene\")\n",
    "\n",
    "else:\n",
    "    print(\"wrong input\")\n"
   ]
  },
  {
   "cell_type": "code",
   "execution_count": 2,
   "metadata": {},
   "outputs": [
    {
     "name": "stdout",
     "output_type": "stream",
     "text": [
      "Not leap year\n"
     ]
    }
   ],
   "source": [
    "a=int(input(\"Enter number of days\"))\n",
    "\n",
    "if((a%4==0) and (a%100!=0)) or (a%400==0 ):\n",
    "    print(\"Leap Year\")\n",
    "\n",
    "else:\n",
    "    print(\"Not leap year\")"
   ]
  },
  {
   "cell_type": "code",
   "execution_count": 2,
   "metadata": {},
   "outputs": [
    {
     "name": "stdout",
     "output_type": "stream",
     "text": [
      "Two sides of triangle are equal\n"
     ]
    }
   ],
   "source": [
    "a= int(input(\"Enter a number\"))\n",
    "b= int(input(\"Enter a number\"))\n",
    "c= int(input(\"Enter a number\"))\n",
    "if (a==b or a==c or b==c):\n",
    "    print(\"Two sides of triangle are equal\")\n",
    "else:\n",
    "    print(\"Two sides are not equal\")"
   ]
  },
  {
   "cell_type": "code",
   "execution_count": 3,
   "metadata": {},
   "outputs": [
    {
     "name": "stdout",
     "output_type": "stream",
     "text": [
      "Gross Salary 57500.0\n"
     ]
    }
   ],
   "source": [
    "# gross salary calculation\n",
    "\n",
    "bs=50000\n",
    "hra=0.05*bs\n",
    "da=0.1*bs\n",
    "gs=bs+hra+da\n",
    "print(\"Gross Salary\", gs)"
   ]
  },
  {
   "cell_type": "code",
   "execution_count": 5,
   "metadata": {},
   "outputs": [
    {
     "name": "stdout",
     "output_type": "stream",
     "text": [
      "Even\n"
     ]
    }
   ],
   "source": [
    "a= int(input(\"Enter a number above than 0\"))\n",
    "\n",
    "if(a%2==0):\n",
    "    print(\"Even\")\n",
    "\n",
    "else:\n",
    "    print(\"odd\")\n",
    "\n",
    "    "
   ]
  },
  {
   "cell_type": "code",
   "execution_count": 4,
   "metadata": {},
   "outputs": [
    {
     "name": "stdout",
     "output_type": "stream",
     "text": [
      "It is vowel\n"
     ]
    }
   ],
   "source": [
    "a= input(\"Enter a character\")\n",
    "\n",
    "if (a=='a' or a=='e' or a=='i' or a=='o' or a=='u' or a=='A' or a=='e' or a=='i' or a=='u' or a=='u'):\n",
    "    print(\"It is vowel\")\n",
    "\n",
    "else:\n",
    "    print(\"It is a consonant\")\n",
    "\n"
   ]
  }
 ],
 "metadata": {
  "kernelspec": {
   "display_name": "base",
   "language": "python",
   "name": "python3"
  },
  "language_info": {
   "codemirror_mode": {
    "name": "ipython",
    "version": 3
   },
   "file_extension": ".py",
   "mimetype": "text/x-python",
   "name": "python",
   "nbconvert_exporter": "python",
   "pygments_lexer": "ipython3",
   "version": "3.13.5"
  }
 },
 "nbformat": 4,
 "nbformat_minor": 2
}
