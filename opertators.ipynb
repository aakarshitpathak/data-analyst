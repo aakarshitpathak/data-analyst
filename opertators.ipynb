{
 "cells": [
  {
   "cell_type": "code",
   "execution_count": null,
   "metadata": {},
   "outputs": [],
   "source": [
    "x=10"
   ]
  },
  {
   "cell_type": "code",
   "execution_count": null,
   "metadata": {},
   "outputs": [
    {
     "name": "stdout",
     "output_type": "stream",
     "text": [
      "11\n",
      "9\n",
      "27\n",
      "6.75\n",
      "1.75\n"
     ]
    }
   ],
   "source": [
    "# asignment operator\n",
    "\n",
    "a=10\n",
    "\n",
    "a+=1\n",
    "print(a)\n",
    "\n",
    "a-=2\n",
    "print(a)\n",
    "\n",
    "a*=3\n",
    "print(a)\n",
    "\n",
    "a/=4\n",
    "print(a)\n",
    "\n",
    "a%=5\n",
    "print(a)"
   ]
  },
  {
   "cell_type": "code",
   "execution_count": 5,
   "metadata": {},
   "outputs": [
    {
     "name": "stdout",
     "output_type": "stream",
     "text": [
      "False\n",
      "False\n",
      "True\n",
      "True\n",
      "False\n",
      "True\n"
     ]
    }
   ],
   "source": [
    "# comparison opertator\n",
    "\n",
    "a= 4\n",
    "b= 6\n",
    "\n",
    "print(a==b)\n",
    "print(a>b)\n",
    "print(a<b)\n",
    "print(a<=b)\n",
    "print(a>=b)\n",
    "print(a!=b)"
   ]
  },
  {
   "cell_type": "code",
   "execution_count": 10,
   "metadata": {},
   "outputs": [
    {
     "name": "stdout",
     "output_type": "stream",
     "text": [
      "False\n",
      "True\n",
      "False\n"
     ]
    }
   ],
   "source": [
    "# Logical operator\n",
    "\n",
    "a=1\n",
    "b=0\n",
    "\n",
    "print(a < b and a > b )\n",
    "print(a<b or a>b)\n",
    "print(not a>b)"
   ]
  },
  {
   "cell_type": "code",
   "execution_count": 12,
   "metadata": {},
   "outputs": [
    {
     "name": "stdout",
     "output_type": "stream",
     "text": [
      "False\n",
      "True\n",
      "True\n"
     ]
    }
   ],
   "source": [
    "# Membership operator\n",
    "\n",
    "fruits =[\"Mango\", \"Banana\", \"Kiwi\"]\n",
    "print(\"Grapes\" in fruits)\n",
    "print(\"Mango\" in fruits)\n",
    "print(\"safeda\" not in fruits)\n"
   ]
  },
  {
   "cell_type": "code",
   "execution_count": null,
   "metadata": {},
   "outputs": [
    {
     "name": "stdout",
     "output_type": "stream",
     "text": [
      "False\n",
      "False\n",
      "True\n",
      "True\n"
     ]
    }
   ],
   "source": [
    "# Identity Operators\n",
    "\n",
    "x= 10\n",
    "y= 7\n",
    "z= 10\n",
    "\n",
    "print(x==y) # false because not equal\n",
    "print(x is  y) # false because different object\n",
    "print(x is z) # TRUE both object are same\n",
    "print(x is not y) #true because it is different"
   ]
  },
  {
   "cell_type": "code",
   "execution_count": 2,
   "metadata": {},
   "outputs": [
    {
     "name": "stdout",
     "output_type": "stream",
     "text": [
      "15\n",
      "-5\n",
      "50\n",
      "0.5\n",
      "5\n",
      "0\n",
      "9765625\n"
     ]
    }
   ],
   "source": [
    "a=5\n",
    "b=10\n",
    "# ab hum arithmetic operator padhenge \n",
    "print(a+b)\n",
    "print(a-b)\n",
    "print(a*b)\n",
    "print(a/b)\n",
    "print(a%b)\n",
    "print(a//b)\n",
    "print(a**b)"
   ]
  }
 ],
 "metadata": {
  "kernelspec": {
   "display_name": "base",
   "language": "python",
   "name": "python3"
  },
  "language_info": {
   "codemirror_mode": {
    "name": "ipython",
    "version": 3
   },
   "file_extension": ".py",
   "mimetype": "text/x-python",
   "name": "python",
   "nbconvert_exporter": "python",
   "pygments_lexer": "ipython3",
   "version": "3.13.5"
  }
 },
 "nbformat": 4,
 "nbformat_minor": 2
}
