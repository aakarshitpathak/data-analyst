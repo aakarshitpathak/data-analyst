{
 "cells": [
  {
   "cell_type": "code",
   "execution_count": 4,
   "id": "ca1933a9",
   "metadata": {},
   "outputs": [
    {
     "name": "stdout",
     "output_type": "stream",
     "text": [
      "[[[2 3 5]\n",
      "  [4 5 6]]\n",
      "\n",
      " [[6 7 1]\n",
      "  [8 9 7]]]\n",
      "(2, 2, 3)\n",
      "3\n",
      "int64\n"
     ]
    }
   ],
   "source": [
    "import numpy as np\n",
    "a=np.array([[[2,3,5],[4,5,6]],[[6,7,1],[8,9,7]]])\n",
    "print(a)\n",
    "print(a.shape)\n",
    "print(a.ndim)\n",
    "print(a.dtype)"
   ]
  },
  {
   "cell_type": "code",
   "execution_count": 5,
   "id": "f3c78874",
   "metadata": {},
   "outputs": [
    {
     "name": "stdout",
     "output_type": "stream",
     "text": [
      "[[7 2 3]\n",
      " [2 3 4]\n",
      " [5 6 9]]\n",
      "[[1 2 3]\n",
      " [4 5 6]\n",
      " [7 8 9]]\n"
     ]
    }
   ],
   "source": [
    "x = np.array([[7,2,3],[2,3,4],[5,6,9]])\n",
    "y = np.array([[1,2,3],[4,5,6],[7,8,9]])\n",
    "\n",
    "print(x)\n",
    "print(y)"
   ]
  },
  {
   "cell_type": "code",
   "execution_count": 6,
   "id": "b19b24cc",
   "metadata": {},
   "outputs": [
    {
     "name": "stdout",
     "output_type": "stream",
     "text": [
      "[[ 7  4  9]\n",
      " [ 8 15 24]\n",
      " [35 48 81]]\n"
     ]
    }
   ],
   "source": [
    "print(x*y)"
   ]
  },
  {
   "cell_type": "code",
   "execution_count": 7,
   "id": "b5631a35",
   "metadata": {},
   "outputs": [
    {
     "name": "stdout",
     "output_type": "stream",
     "text": [
      "[[ 36  48  60]\n",
      " [ 42  51  60]\n",
      " [ 92 112 132]]\n"
     ]
    }
   ],
   "source": [
    "print(x@y)"
   ]
  },
  {
   "cell_type": "code",
   "execution_count": 3,
   "id": "92154dc0",
   "metadata": {},
   "outputs": [
    {
     "data": {
      "text/plain": [
       "array([[ 36,  48,  60],\n",
       "       [ 42,  51,  60],\n",
       "       [ 92, 112, 132]])"
      ]
     },
     "execution_count": 3,
     "metadata": {},
     "output_type": "execute_result"
    }
   ],
   "source": [
    "import numpy as np\n",
    "x = np.array([[7,2,3],[2,3,4],[5,6,9]])\n",
    "y = np.array([[1,2,3],[4,5,6],[7,8,9]])\n",
    "\n",
    "np.dot(x,y) # it is a function which will do the dot product of x and y"
   ]
  }
 ],
 "metadata": {
  "kernelspec": {
   "display_name": "base",
   "language": "python",
   "name": "python3"
  },
  "language_info": {
   "codemirror_mode": {
    "name": "ipython",
    "version": 3
   },
   "file_extension": ".py",
   "mimetype": "text/x-python",
   "name": "python",
   "nbconvert_exporter": "python",
   "pygments_lexer": "ipython3",
   "version": "3.13.5"
  }
 },
 "nbformat": 4,
 "nbformat_minor": 5
}
