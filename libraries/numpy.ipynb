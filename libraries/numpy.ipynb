{
 "cells": [
  {
   "cell_type": "code",
   "execution_count": 3,
   "id": "29017c1d",
   "metadata": {},
   "outputs": [
    {
     "name": "stdout",
     "output_type": "stream",
     "text": [
      "[1 2 3 4 5 6]\n",
      "[1 2 3 4 5 6]\n",
      "<class 'numpy.ndarray'>\n"
     ]
    }
   ],
   "source": [
    "''' numpy works with scientific calculation easily and helps in \n",
    "assistance to it'''\n",
    "\n",
    "# it mostly works with array\n",
    "\n",
    "import numpy as np\n",
    "\n",
    "a= np.array([1,2,3,4,5,6])\n",
    "b= np.array([1,2,3,4,5,6])\n",
    "\n",
    "print(a)\n",
    "print(b)\n",
    "print(type(a))"
   ]
  },
  {
   "cell_type": "code",
   "execution_count": 4,
   "id": "58e8dd36",
   "metadata": {},
   "outputs": [
    {
     "name": "stdout",
     "output_type": "stream",
     "text": [
      "[ 2  4  6  8 10 12]\n",
      "[0 0 0 0 0 0]\n",
      "[ 1  4  9 16 25 36]\n",
      "[1. 1. 1. 1. 1. 1.]\n"
     ]
    }
   ],
   "source": [
    "print(a+b)\n",
    "print(a-b)\n",
    "print(a*b)\n",
    "print(a/b)"
   ]
  },
  {
   "cell_type": "code",
   "execution_count": 10,
   "id": "ca674632",
   "metadata": {},
   "outputs": [
    {
     "name": "stdout",
     "output_type": "stream",
     "text": [
      "[[1 2 3]\n",
      " [4 5 6]\n",
      " [7 8 9]]\n"
     ]
    }
   ],
   "source": [
    "# Creating 2d array\n",
    "\n",
    "a2 =np.array([[1,2,3],[4,5,6],[7,8,9]])\n",
    "print(a2)"
   ]
  },
  {
   "cell_type": "code",
   "execution_count": 11,
   "id": "8d043b1c",
   "metadata": {},
   "outputs": [
    {
     "name": "stdout",
     "output_type": "stream",
     "text": [
      "[[[1 2]\n",
      "  [3 4]]\n",
      "\n",
      " [[5 6]\n",
      "  [7 8]]]\n"
     ]
    }
   ],
   "source": [
    "a3=np.array([[[1,2],[3,4]],[[5,6],[7,8]]])\n",
    "print(a3)"
   ]
  },
  {
   "cell_type": "code",
   "execution_count": 12,
   "id": "2d78c347",
   "metadata": {},
   "outputs": [
    {
     "name": "stdout",
     "output_type": "stream",
     "text": [
      "(3, 3)\n"
     ]
    }
   ],
   "source": [
    "print(a2.shape) # this line tells about the shape of array i.e.rows and column"
   ]
  },
  {
   "cell_type": "code",
   "execution_count": null,
   "id": "c4a21827",
   "metadata": {},
   "outputs": [
    {
     "name": "stdout",
     "output_type": "stream",
     "text": [
      "3\n"
     ]
    }
   ],
   "source": [
    "print(a3.ndim)# tells dimension of array"
   ]
  },
  {
   "cell_type": "code",
   "execution_count": 18,
   "id": "bcd2eac2",
   "metadata": {},
   "outputs": [
    {
     "name": "stdout",
     "output_type": "stream",
     "text": [
      "int64\n"
     ]
    }
   ],
   "source": [
    "print(a2.dtype) # tells the data type of array"
   ]
  },
  {
   "cell_type": "code",
   "execution_count": null,
   "id": "fb365b29",
   "metadata": {},
   "outputs": [
    {
     "data": {
      "text/plain": [
       "array([0, 1, 2, 3, 4, 5, 6, 7, 8, 9])"
      ]
     },
     "execution_count": 14,
     "metadata": {},
     "output_type": "execute_result"
    }
   ],
   "source": [
    "np.arange(10)  # this creates the array from 0 to 9"
   ]
  },
  {
   "cell_type": "code",
   "execution_count": 15,
   "id": "69ee85bd",
   "metadata": {},
   "outputs": [
    {
     "data": {
      "text/plain": [
       "array([ 2,  3,  4,  5,  6,  7,  8,  9, 10, 11, 12, 13, 14, 15, 16, 17, 18,\n",
       "       19, 20])"
      ]
     },
     "execution_count": 15,
     "metadata": {},
     "output_type": "execute_result"
    }
   ],
   "source": [
    "np.arange(2,21)"
   ]
  },
  {
   "cell_type": "code",
   "execution_count": 16,
   "id": "22a73c41",
   "metadata": {},
   "outputs": [
    {
     "data": {
      "text/plain": [
       "array([ 2,  4,  6,  8, 10, 12, 14, 16, 18, 20])"
      ]
     },
     "execution_count": 16,
     "metadata": {},
     "output_type": "execute_result"
    }
   ],
   "source": [
    "np.arange(2,21,2)"
   ]
  },
  {
   "cell_type": "code",
   "execution_count": null,
   "id": "1f1652aa",
   "metadata": {},
   "outputs": [],
   "source": [
    "np.random.randint(1,11 , )"
   ]
  }
 ],
 "metadata": {
  "kernelspec": {
   "display_name": "base",
   "language": "python",
   "name": "python3"
  },
  "language_info": {
   "codemirror_mode": {
    "name": "ipython",
    "version": 3
   },
   "file_extension": ".py",
   "mimetype": "text/x-python",
   "name": "python",
   "nbconvert_exporter": "python",
   "pygments_lexer": "ipython3",
   "version": "3.13.5"
  }
 },
 "nbformat": 4,
 "nbformat_minor": 5
}
