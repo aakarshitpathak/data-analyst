{
 "cells": [
  {
   "cell_type": "code",
   "execution_count": null,
   "id": "70b09d90",
   "metadata": {},
   "outputs": [],
   "source": [
    "from random import random,randint,choice,shuffle\n",
    "\n",
    "print(\"Get a number between 0 and 1\", random())\n",
    "print(\"Get a number between the given range\", randint(1,21))\n",
    "print(\"Get a numbet from my choice\", choice([2,5,4,7,9]))\n",
    "name=['John','Nik','Ann','Nat']\n",
    "shuffle(name)\n",
    "print('Shuffled names',name)\n",
    "\n",
    "print()"
   ]
  }
 ],
 "metadata": {
  "kernelspec": {
   "display_name": "base",
   "language": "python",
   "name": "python3"
  },
  "language_info": {
   "name": "python",
   "version": "3.13.5"
  }
 },
 "nbformat": 4,
 "nbformat_minor": 5
}
