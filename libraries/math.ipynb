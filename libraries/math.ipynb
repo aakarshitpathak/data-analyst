{
 "cells": [
  {
   "cell_type": "code",
   "execution_count": 4,
   "id": "6d19be5b",
   "metadata": {},
   "outputs": [
    {
     "name": "stdout",
     "output_type": "stream",
     "text": [
      "2.23606797749979\n",
      "2\n",
      "84\n",
      "3.141592653589793\n",
      "120\n",
      "8.0\n",
      "2.302585092994046\n",
      "0.8414709848078965\n"
     ]
    }
   ],
   "source": [
    "import math\n",
    "print(math.sqrt(5))\n",
    "print(math.gcd(10,12))\n",
    "print(math.lcm(12,14))\n",
    "print(math.pi)\n",
    "print(math.factorial(5))\n",
    "print(math.pow(2,3))\n",
    "print(math.log(10))\n",
    "print(math.sin(1))"
   ]
  }
 ],
 "metadata": {
  "kernelspec": {
   "display_name": "base",
   "language": "python",
   "name": "python3"
  },
  "language_info": {
   "codemirror_mode": {
    "name": "ipython",
    "version": 3
   },
   "file_extension": ".py",
   "mimetype": "text/x-python",
   "name": "python",
   "nbconvert_exporter": "python",
   "pygments_lexer": "ipython3",
   "version": "3.13.5"
  }
 },
 "nbformat": 4,
 "nbformat_minor": 5
}
