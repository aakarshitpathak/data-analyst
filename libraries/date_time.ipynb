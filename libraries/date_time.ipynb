{
 "cells": [
  {
   "cell_type": "markdown",
   "id": "1dcc5fb5",
   "metadata": {},
   "source": [
    "# Note: \n",
    "- square waale function me parenthesis lagao ()\n",
    "- wrench aaye toh parenthesis lagane ki zarurat nahi ()❌"
   ]
  },
  {
   "cell_type": "code",
   "execution_count": 2,
   "id": "5bcbb550",
   "metadata": {},
   "outputs": [
    {
     "name": "stdout",
     "output_type": "stream",
     "text": [
      "current Date and Time 2025-07-28 11:49:05.247338\n"
     ]
    }
   ],
   "source": [
    "from datetime  import datetime as dt #alias\n",
    "\n",
    "print('current Date and Time', dt.now())"
   ]
  },
  {
   "cell_type": "code",
   "execution_count": 5,
   "id": "2da80871",
   "metadata": {},
   "outputs": [
    {
     "name": "stdout",
     "output_type": "stream",
     "text": [
      "Current Date 2025-07-28\n"
     ]
    }
   ],
   "source": [
    "from datetime import datetime as dt\n",
    "\n",
    "print('Current Date',dt.now().date())"
   ]
  },
  {
   "cell_type": "code",
   "execution_count": null,
   "id": "45a5f45f",
   "metadata": {},
   "outputs": [
    {
     "name": "stdout",
     "output_type": "stream",
     "text": [
      "Current Time 11:55:50.956205\n"
     ]
    }
   ],
   "source": [
    "print('Current Time', dt.now().time())"
   ]
  },
  {
   "cell_type": "code",
   "execution_count": null,
   "id": "060accc1",
   "metadata": {},
   "outputs": [
    {
     "name": "stdout",
     "output_type": "stream",
     "text": [
      "Current Year 2025\n"
     ]
    }
   ],
   "source": [
    "print('Current Year', dt.now().year)"
   ]
  },
  {
   "cell_type": "code",
   "execution_count": 10,
   "id": "2ef4f6a6",
   "metadata": {},
   "outputs": [
    {
     "name": "stdout",
     "output_type": "stream",
     "text": [
      "Current Month 7\n"
     ]
    }
   ],
   "source": [
    "from datetime import datetime as dt\n",
    "\n",
    "print('Current Month',dt.now().month)"
   ]
  },
  {
   "cell_type": "code",
   "execution_count": 11,
   "id": "23fd0a90",
   "metadata": {},
   "outputs": [
    {
     "name": "stdout",
     "output_type": "stream",
     "text": [
      "Current Day 28\n"
     ]
    }
   ],
   "source": [
    "print('Current Day', dt.now().day)"
   ]
  },
  {
   "cell_type": "code",
   "execution_count": 12,
   "id": "3ad6a447",
   "metadata": {},
   "outputs": [
    {
     "name": "stdout",
     "output_type": "stream",
     "text": [
      "Current Day 11\n"
     ]
    }
   ],
   "source": [
    "print('Current Day', dt.now().hour)"
   ]
  },
  {
   "cell_type": "code",
   "execution_count": 13,
   "id": "af621b1b",
   "metadata": {},
   "outputs": [
    {
     "name": "stdout",
     "output_type": "stream",
     "text": [
      "Current Day 52\n"
     ]
    }
   ],
   "source": [
    "print('Current Day', dt.now().minute)"
   ]
  },
  {
   "cell_type": "code",
   "execution_count": 14,
   "id": "50956411",
   "metadata": {},
   "outputs": [
    {
     "name": "stdout",
     "output_type": "stream",
     "text": [
      "Current Day 31\n"
     ]
    }
   ],
   "source": [
    "print('Current Day', dt.now().second)"
   ]
  }
 ],
 "metadata": {
  "kernelspec": {
   "display_name": "base",
   "language": "python",
   "name": "python3"
  },
  "language_info": {
   "codemirror_mode": {
    "name": "ipython",
    "version": 3
   },
   "file_extension": ".py",
   "mimetype": "text/x-python",
   "name": "python",
   "nbconvert_exporter": "python",
   "pygments_lexer": "ipython3",
   "version": "3.13.5"
  }
 },
 "nbformat": 4,
 "nbformat_minor": 5
}
