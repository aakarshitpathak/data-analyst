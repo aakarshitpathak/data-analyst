{
 "cells": [
  {
   "cell_type": "code",
   "execution_count": null,
   "id": "e9681d98",
   "metadata": {},
   "outputs": [
    {
     "name": "stdout",
     "output_type": "stream",
     "text": [
      "Not a prime number\n"
     ]
    }
   ],
   "source": [
    "# to find a number is prime or not\n",
    "\n",
    "def pm():\n",
    "    a = int(input(\"Enter a number: \"))\n",
    "    if a <= 1:\n",
    "        print(\"Not a prime number\")\n",
    "        return\n",
    "\n",
    "    for i in range(2, int(a/2) + 1):\n",
    "        if a % i == 0:\n",
    "            print(\"Not a prime number\")\n",
    "            return\n",
    "    print(\"Prime number\")\n",
    "pm()"
   ]
  },
  {
   "cell_type": "code",
   "execution_count": null,
   "id": "201a975a",
   "metadata": {},
   "outputs": [
    {
     "name": "stdout",
     "output_type": "stream",
     "text": [
      "Original list: [2, 3, 4, 5, 6]\n",
      "List of squares: [4, 9, 16, 25, 36]\n"
     ]
    }
   ],
   "source": [
    "''' to take a list of 5 numbers and return a new list with \n",
    "square of each number'''\n",
    "\n",
    "def sq(n):\n",
    "    squared = []\n",
    "    for num in n:\n",
    "        squared.append(num ** 2)\n",
    "    return squared\n",
    "\n",
    "# Taking input from user\n",
    "a = []\n",
    "for i in range(5):\n",
    "    n = int(input(f\"Enter number {i+1}: \"))\n",
    "    a.append(n)\n",
    "\n",
    "# Calling the function\n",
    "result = sq(a)\n",
    "\n",
    "# Output\n",
    "print(\"Original list:\", a)\n",
    "print(\"List of squares:\", result)\n"
   ]
  },
  {
   "cell_type": "code",
   "execution_count": null,
   "id": "4310f0a1",
   "metadata": {},
   "outputs": [
    {
     "name": "stdout",
     "output_type": "stream",
     "text": [
      "Original list [1, 2, 3, 4, 5]\n",
      "Even list [2, 4]\n"
     ]
    }
   ],
   "source": [
    "'''to take a list of 5 numbers and return a new list with \n",
    "only even numbers'''\n",
    "\n",
    "def fun(a):\n",
    "    b=[]\n",
    "    for i in a:\n",
    "        if i%2==0:\n",
    "            b.append(i)\n",
    "    return b\n",
    "a=[]\n",
    "for i in range(5):\n",
    "    num1=int(input(f\"Enter number {i+1}\"))\n",
    "    a.append(num1)\n",
    "\n",
    "result=fun(a)\n",
    "\n",
    "print(\"Original list: \",a)\n",
    "print(\"Even list: \",result)\n",
    "\n"
   ]
  },
  {
   "cell_type": "code",
   "execution_count": 24,
   "id": "66a29fee",
   "metadata": {},
   "outputs": [
    {
     "name": "stdout",
     "output_type": "stream",
     "text": [
      "It is not a leap year \n"
     ]
    }
   ],
   "source": [
    "# to check a year is leap year or not \n",
    "\n",
    "def fun(a):\n",
    "    if ((a%4==0) and a%100!=0) or a%400==0:\n",
    "        print(\"It is a Leap Year\")\n",
    "    else:\n",
    "        print(\"It is not a leap year \")\n",
    "\n",
    "a=int(input(\"Enter a number\"))\n",
    "b=fun(a)\n"
   ]
  },
  {
   "cell_type": "code",
   "execution_count": null,
   "id": "21abe9ac",
   "metadata": {},
   "outputs": [
    {
     "data": {
      "text/plain": [
       "20000.0"
      ]
     },
     "execution_count": 26,
     "metadata": {},
     "output_type": "execute_result"
    }
   ],
   "source": [
    "# to calculate 10% of 200000\n",
    "\n",
    "def fun():\n",
    "    a=0.1*200000\n",
    "    return a\n",
    "fun()"
   ]
  },
  {
   "cell_type": "code",
   "execution_count": null,
   "id": "8068425d",
   "metadata": {},
   "outputs": [
    {
     "name": "stdout",
     "output_type": "stream",
     "text": [
      "[1, 4, 9, 16, 25]\n"
     ]
    }
   ],
   "source": [
    "'''to take a list of 5 numbers and return a new list with \n",
    "only even numbers'''\n",
    "\n",
    "# Note: This is shortest method (Comprehension method)\n",
    "\n",
    "lst=[1,2,3,4,5]\n",
    "squares = [num**2 for num in lst]\n",
    "print(squares)\n"
   ]
  }
 ],
 "metadata": {
  "kernelspec": {
   "display_name": "base",
   "language": "python",
   "name": "python3"
  },
  "language_info": {
   "codemirror_mode": {
    "name": "ipython",
    "version": 3
   },
   "file_extension": ".py",
   "mimetype": "text/x-python",
   "name": "python",
   "nbconvert_exporter": "python",
   "pygments_lexer": "ipython3",
   "version": "3.13.5"
  }
 },
 "nbformat": 4,
 "nbformat_minor": 5
}
